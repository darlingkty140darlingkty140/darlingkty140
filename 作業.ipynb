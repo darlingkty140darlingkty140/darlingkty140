{
 "cells": [
  {
   "cell_type": "markdown",
   "metadata": {},
   "source": [
    "作業一 剪刀石頭布"
   ]
  },
  {
   "cell_type": "code",
   "execution_count": 2,
   "metadata": {},
   "outputs": [
    {
     "name": "stdout",
     "output_type": "stream",
     "text": [
      "剪刀石頭布！！\n",
      "遊戲規則：剪刀為1，石頭為2，布為3。\n",
      "祝你好運\n",
      "請輸入剪刀石頭布其中一個代碼，與電腦猜拳：1\n",
      "電腦：剪刀\n",
      "雙方平手\n",
      "遊戲結束\n"
     ]
    }
   ],
   "source": [
    "%matplotlib inline\n",
    "import numpy as np \n",
    "import matplotlib.pyplot as plt\n",
    "import pandas as pd\n",
    "import random\n",
    "from random import randint\n",
    "print('剪刀石頭布！！')\n",
    "print(\"遊戲規則：剪刀為1，石頭為2，布為3。\")\n",
    "print('祝你好運')\n",
    "N = random.randint(1,4)\n",
    "P = int(input('請輸入剪刀石頭布其中一個代碼，與電腦猜拳：'))\n",
    "   \n",
    "if N == 1 and P == 2:\n",
    "    print('電腦：剪刀')\n",
    "    print('恭喜你獲得勝利')\n",
    "    print('遊戲結束')\n",
    "elif Ｎ == 2 and P == 3:\n",
    "    print('電腦：石頭')\n",
    "    print(\"恭喜你獲得勝利\")\n",
    "    print('遊戲結束')\n",
    "elif Ｎ == 3 and P == 1:\n",
    "    print('電腦：布')\n",
    "    print('恭喜你獲得勝利')\n",
    "    print('遊戲結束')\n",
    "elif Ｎ == 1 and P == 1:\n",
    "    print('電腦：剪刀')\n",
    "    print('雙方平手')\n",
    "    print('遊戲結束')\n",
    "elif Ｎ == 2 and P == 2:\n",
    "    print('電腦：石頭')\n",
    "    print('雙方平手')\n",
    "    print('遊戲結束')\n",
    "elif Ｎ == 3 and P == 3:\n",
    "    print('電腦：布')\n",
    "    print('雙方平手')\n",
    "    print('遊戲結束')\n",
    "elif Ｎ == 1 and P == 3:\n",
    "    print('電腦：剪刀')\n",
    "    print('電腦獲勝')\n",
    "    print('別氣餒，再接再厲！')\n",
    "    print('遊戲結束')\n",
    "elif Ｎ == 2 and P == 1:\n",
    "    print('電腦：石頭')\n",
    "    print('電腦獲勝')\n",
    "    print('別氣餒，再接再厲！')\n",
    "    print('遊戲結束')\n",
    "elif Ｎ == 3 and P == 2:\n",
    "    print('電腦：布')\n",
    "    print('電腦獲勝')\n",
    "    print('別氣餒，再接再厲！')\n",
    "    print('遊戲結束')\n",
    "    "
   ]
  },
  {
   "cell_type": "markdown",
   "metadata": {},
   "source": [
    "作業二 今日消費"
   ]
  },
  {
   "cell_type": "code",
   "execution_count": 4,
   "metadata": {},
   "outputs": [
    {
     "name": "stdout",
     "output_type": "stream",
     "text": [
      "請輸入今天的消費金額\n",
      "早餐：1\n",
      "午餐：1\n",
      "午餐：1\n",
      "交通費用：1\n",
      "其他項目花費：1\n",
      "你今天消費金額為： 5\n"
     ]
    }
   ],
   "source": [
    "%matplotlib inline\n",
    "\n",
    "import numpy as np\n",
    "import matplotlib.pyplot as plt\n",
    "\n",
    "print('請輸入今天的消費金額')\n",
    "T1 = int(input(\"早餐：\"))\n",
    "T2 = int(input(\"午餐：\"))\n",
    "T3 = int(input(\"午餐：\"))\n",
    "T4 = int(input(\"交通費用：\"))\n",
    "T5 = int(input(\"其他項目花費：\"))\n",
    "T = T1 + T2 + T3 + T4 + T5\n",
    "\n",
    "print('你今天消費金額為：',T)"
   ]
  },
  {
   "cell_type": "markdown",
   "metadata": {},
   "source": [
    "作業三 午餐吃什麼 "
   ]
  },
  {
   "cell_type": "code",
   "execution_count": 34,
   "metadata": {},
   "outputs": [
    {
     "name": "stdout",
     "output_type": "stream",
     "text": [
      "以下是隨機組合的菜色：\n",
      "麵線\n",
      "控肉\n",
      "高麗菜\n",
      "青菜豆腐湯\n",
      "提供一些食物的意見\n",
      "請自行搭配煮出美味的午餐吧\n"
     ]
    }
   ],
   "source": [
    "%matplotlib inline\n",
    "import numpy as np\n",
    "import matplotlib.pyplot as plt\n",
    "import pandas as pd\n",
    "import random\n",
    "\n",
    "A = '白飯,拉麵,麵線,糙米飯'\n",
    "A = A.split(',',3)\n",
    "a = random.randint(0,3)\n",
    "B = '控肉,豬排,排骨,雞腿,鮮魚,鴨翅'\n",
    "B = B.split(',',5)\n",
    "b = random.randint(0,5)\n",
    "C = '青江菜,花椰菜,四季豆,茼蒿,高麗菜,絲瓜'\n",
    "C = C.split(',',5)\n",
    "c = random.randint(0,5)\n",
    "D ='青菜豆腐湯,酸辣湯,雞湯,下水湯,四神湯'\n",
    "D = D.split(',',4)\n",
    "d = random.randint(0,4)\n",
    "\n",
    "print('以下是隨機組合的菜色：')\n",
    "print(A[a])\n",
    "print(B[b])\n",
    "print(C[c])\n",
    "print(D[d])\n",
    "print('提供一些食物的意見')\n",
    "print('請自行搭配煮出美味的午餐吧')"
   ]
  },
  {
   "cell_type": "code",
   "execution_count": null,
   "metadata": {},
   "outputs": [],
   "source": []
  },
  {
   "cell_type": "code",
   "execution_count": null,
   "metadata": {},
   "outputs": [],
   "source": []
  },
  {
   "cell_type": "code",
   "execution_count": null,
   "metadata": {},
   "outputs": [],
   "source": []
  }
 ],
 "metadata": {
  "kernelspec": {
   "display_name": "Python 3",
   "language": "python",
   "name": "python3"
  },
  "language_info": {
   "codemirror_mode": {
    "name": "ipython",
    "version": 3
   },
   "file_extension": ".py",
   "mimetype": "text/x-python",
   "name": "python",
   "nbconvert_exporter": "python",
   "pygments_lexer": "ipython3",
   "version": "3.7.3"
  }
 },
 "nbformat": 4,
 "nbformat_minor": 2
}
