{
 "cells": [
  {
   "cell_type": "code",
   "execution_count": 3,
   "metadata": {},
   "outputs": [],
   "source": [
    "%matplotlib inline\n",
    "\n",
    "import numpy as np\n",
    "import matplotlib.pyplot as plt\n",
    "import pandas as pd\n",
    "import math"
   ]
  },
  {
   "cell_type": "code",
   "execution_count": null,
   "metadata": {},
   "outputs": [
    {
     "name": "stdout",
     "output_type": "stream",
     "text": [
      "將兩數加減乘除後的結果\n"
     ]
    }
   ],
   "source": [
    "print('將兩數加減乘除後的結果')\n",
    "A = input('請輸入整數(被運算數):')\n",
    "B = input('請輸入整數(運算數):')\n",
    "Q = int(A)+int(B)\n",
    "W = int(A)-int(B)\n",
    "E = int(A)*int(B)\n",
    "R = int(A)/int(B)\n",
    "print(f'{A} + {B} = {Q}')\n",
    "print(f'{A} - {B} = {W}')\n",
    "print(f'{A} x {B} = {E}')\n",
    "print(f'{A} ÷ {B} = {R}')"
   ]
  },
  {
   "cell_type": "code",
   "execution_count": null,
   "metadata": {},
   "outputs": [],
   "source": []
  }
 ],
 "metadata": {
  "kernelspec": {
   "display_name": "Python 3",
   "language": "python",
   "name": "python3"
  },
  "language_info": {
   "codemirror_mode": {
    "name": "ipython",
    "version": 3
   },
   "file_extension": ".py",
   "mimetype": "text/x-python",
   "name": "python",
   "nbconvert_exporter": "python",
   "pygments_lexer": "ipython3",
   "version": "3.7.3"
  }
 },
 "nbformat": 4,
 "nbformat_minor": 2
}
