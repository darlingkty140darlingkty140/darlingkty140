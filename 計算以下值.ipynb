{
 "cells": [
  {
   "cell_type": "code",
   "execution_count": 1,
   "metadata": {},
   "outputs": [],
   "source": [
    "%matplotlib inline\n",
    "\n",
    "import numpy as np\n",
    "import matplotlib.pyplot as plt\n",
    "import pandas as pd\n",
    "import math\n",
    "import random\n",
    "from random import randint"
   ]
  },
  {
   "cell_type": "code",
   "execution_count": 3,
   "metadata": {},
   "outputs": [
    {
     "name": "stdout",
     "output_type": "stream",
     "text": [
      "計算以上值：\n",
      "88641270638 + 1438797105116 =2\n",
      "你好爛！！\n"
     ]
    }
   ],
   "source": [
    "print('計算以上值：')\n",
    "X = randint(1,9999999999999)\n",
    "Y = randint(1,9999999999999)\n",
    "Z = randint(1,4)\n",
    "if Z == 1:\n",
    "    Q = X + Y\n",
    "    A = input(f'{X} + {Y} =')\n",
    "elif Z == 2:\n",
    "    Q = X - Y\n",
    "    A = input(f'{X} - {Y} =')\n",
    "elif Z == 3:\n",
    "    Q = X * Y\n",
    "    A = input(f'{X} x {Y} =')\n",
    "else:\n",
    "    Q = X / Y\n",
    "    A = input(f'{X} ÷ {Y} =')\n",
    "if int(A) == Q:\n",
    "    print('阿不就好棒棒？')\n",
    "else:\n",
    "    print('你好爛！！')"
   ]
  },
  {
   "cell_type": "code",
   "execution_count": 4,
   "metadata": {},
   "outputs": [
    {
     "name": "stdout",
     "output_type": "stream",
     "text": [
      "9556129726189 - 6566832966762 =1\n",
      "你好爛！！\n"
     ]
    }
   ],
   "source": []
  },
  {
   "cell_type": "code",
   "execution_count": null,
   "metadata": {},
   "outputs": [],
   "source": []
  }
 ],
 "metadata": {
  "kernelspec": {
   "display_name": "Python 3",
   "language": "python",
   "name": "python3"
  },
  "language_info": {
   "codemirror_mode": {
    "name": "ipython",
    "version": 3
   },
   "file_extension": ".py",
   "mimetype": "text/x-python",
   "name": "python",
   "nbconvert_exporter": "python",
   "pygments_lexer": "ipython3",
   "version": "3.7.3"
  }
 },
 "nbformat": 4,
 "nbformat_minor": 2
}
